{
 "cells": [
  {
   "cell_type": "markdown",
   "id": "b07fb0a9",
   "metadata": {},
   "source": [
    "## A collection of origami desinged by ROAD\n",
    "This is a collection of the some RNA origami design and published with the ROAD software, slightly modified (e.g. twist corrected).\n",
    "(ROAD paper: https://doi.org/10.1038/s41557-021-00679-1)"
   ]
  },
  {
   "cell_type": "code",
   "execution_count": 16,
   "id": "c7ba8081",
   "metadata": {},
   "outputs": [],
   "source": [
    "import pyfurnace as pf"
   ]
  },
  {
   "cell_type": "markdown",
   "id": "3e37328d",
   "metadata": {},
   "source": [
    "### 3H-2DT"
   ]
  },
  {
   "cell_type": "code",
   "execution_count": 17,
   "id": "a3c00d9b",
   "metadata": {},
   "outputs": [
    {
     "data": {
      "text/html": [
       "\n",
       "    <div style=\"max-height: 500px; overflow-y: scroll; border: 1px solid #ccc; padding: 10px;\">\n",
       "    <pre>                                                                                ╭────────╮            \n",
       "                  ╭NNNNN────NNNNKNNNNNNN─3 5─NNNNKNNNNNNKNNNNNKNNN────NNNKNNNNKN┼─NNNNNNN╯            \n",
       "                  │┊┊┊┊┊    ┊┊┊┊┊┊┊┊┊┊┊┊     ┊┊┊┊┊┊┊┊┊┊┊┊┊┊┊┊┊┊┊┊┊    ┊┊┊┊┊┊┊┊┊┊│                     \n",
       "         ╭NNNNNNN─┼NNNNN╮╭──NNNNKNNNNNNN─────NNNNKNNNNNNKNNNNNKNNN╮╭──NNNKNNNNKN╯                     \n",
       "         ╰────────╯     ││                                        ││                                  \n",
       "                        ││                                        │╰╮                                 \n",
       "                        ││                                        ╰╮│                                 \n",
       "                        ↓↓                                         ↓↓                                 \n",
       "                        ││                 ╭───────╮               ││                                 \n",
       "              ╭CGNNNNKNN╯╰SS──NNKNNNNNKNNAA┼─NNNNNN╯╭─ANNNNKNNNNNNN╯╰SS──NNNNKNNUU╮                   \n",
       "              │  ┊┊┊┊┊┊┊  ┊┊  ┊┊┊┊┊┊┊┊┊┊┊  │ ┊┊┊┊┊┊ │  ┊┊┊┊┊┊┊┊┊┊┊┊  ┊┊  ┊┊┊┊┊┊┊  │                   \n",
       "              ╰UUNNNNKNN──SS╮╭NNKNNNNNKNNA─╯╭NNNNNN─┼AANNNNKNNNNNNN──SS╮╭NNNNKNNGC╯                   \n",
       "                            ││              ╰───────╯                  ││                             \n",
       "                            ││                                         ││                             \n",
       "                            ↓↓                                         ↓↓                             \n",
       "                            ││              ╭───────╮                  ││                   ╭────────╮\n",
       "         ╭NNNNKNNNNNNNKNNN──╯╰NNNKNNNNKNNNAA┼─NNNNNN╯╭─ANNNKNNNNNNKNN──╯╰NNNNKNNNNNNKNNNNNKN┼─NNNNNNN╯\n",
       "         │┊┊┊┊┊┊┊┊┊┊┊┊┊┊┊┊    ┊┊┊┊┊┊┊┊┊┊┊┊  │ ┊┊┊┊┊┊ │  ┊┊┊┊┊┊┊┊┊┊┊┊┊    ┊┊┊┊┊┊┊┊┊┊┊┊┊┊┊┊┊┊┊│         \n",
       "╭NNNNNNN─┼NNNNKNNNNNNNKNNN────NNNKNNNNKNNNA─╯╭NNNNNN─┼AANNNKNNNNNNKNN────NNNNKNNNNNNKNNNNNKN╯         \n",
       "╰────────╯                                   ╰───────╯                                                </pre>\n",
       "    </div>\n",
       "    "
      ],
      "text/plain": [
       "<IPython.core.display.HTML object>"
      ]
     },
     "metadata": {},
     "output_type": "display_data"
    }
   ],
   "source": [
    "ori_3H_2DT = pf.simple_origami([-2], main_stem=33, end_helix_len=7)\n",
    "# adjust start position\n",
    "ori_3H_2DT[0, 3].length = 12\n",
    "ori_3H_2DT[0, 5].length = 21\n",
    "\n",
    "# adjust stems before the KL\n",
    "ori_3H_2DT[0, 1].length = 5\n",
    "ori_3H_2DT[-1, 1].length = 16\n",
    "ori_3H_2DT[0, -2].length = 10\n",
    "ori_3H_2DT[-1, -2].length = 19\n",
    "\n",
    "# put the KL in the right place\n",
    "ori_3H_2DT[0, 0] = pf.KissingLoop120(pk_index=1)\n",
    "ori_3H_2DT[-1, 0] = pf.KissingLoop120(pk_index=2)\n",
    "ori_3H_2DT[0, -1] = pf.KissingLoop120(open_left=True, pk_index=1)\n",
    "ori_3H_2DT[-1, -1] = pf.KissingLoop120(open_left=True, pk_index=2)\n",
    "\n",
    "pf.ipython_display_txt(ori_3H_2DT)\n"
   ]
  },
  {
   "cell_type": "markdown",
   "id": "3581b8fd",
   "metadata": {},
   "source": [
    "### 3H-3DT"
   ]
  },
  {
   "cell_type": "code",
   "execution_count": 18,
   "id": "7ebd5adf",
   "metadata": {},
   "outputs": [
    {
     "data": {
      "text/html": [
       "\n",
       "    <div style=\"max-height: 500px; overflow-y: scroll; border: 1px solid #ccc; padding: 10px;\">\n",
       "    <pre>                                                                                 ╭────────╮             \n",
       "           ╭NNNNKNNNNKNN────NNNKNNNNNKNN─3 5─NNNNKNNNNNKNNNKNNNNNN────NNKNNNNNKNN┼─NNNNNNN╯             \n",
       "           │┊┊┊┊┊┊┊┊┊┊┊┊    ┊┊┊┊┊┊┊┊┊┊┊┊     ┊┊┊┊┊┊┊┊┊┊┊┊┊┊┊┊┊┊┊┊┊    ┊┊┊┊┊┊┊┊┊┊┊│                      \n",
       "  ╭NNNNNNN─┼NNNNKNNNNKNN╮╭──NNNKNNNNNKNN─────NNNNKNNNNNKNNNKNNNNNN╮╭──NNKNNNNNKNN╯                      \n",
       "  ╰────────╯            ││                                        ││                                    \n",
       "                        ││                                        │╰╮                                   \n",
       "                        ││                                        ╰╮│                                   \n",
       "                        ↓↓                                         ↓↓                                   \n",
       "                        ││                 ╭───────╮               ││                                   \n",
       "              ╭CGNNKNNNN╯╰SS──NNNKNNNNNKNAA┼─NNNNNN╯╭─ANNNKNNNNKNNN╯╰SS──NNKNNNNUU╮                     \n",
       "              │  ┊┊┊┊┊┊┊  ┊┊  ┊┊┊┊┊┊┊┊┊┊┊  │ ┊┊┊┊┊┊ │  ┊┊┊┊┊┊┊┊┊┊┊┊  ┊┊  ┊┊┊┊┊┊┊  │                     \n",
       "              ╰UUNNKNNNN──SS╮╭NNNKNNNNNKNA─╯╭NNNNNN─┼AANNNKNNNNKNNN──SS╮╭NNKNNNNGC╯                     \n",
       "                            ││              ╰───────╯                  ││                               \n",
       "                            ││                                         ││                               \n",
       "                            ↓↓                                         ↓↓                               \n",
       "                            ││              ╭───────╮                  ││                     ╭────────╮\n",
       "         ╭NNNKNNNNKNNNNNKN──╯╰NNKNNNNKNNNNAA┼─NNNNNN╯╭─ANNNKNNNNNNKNN──╯╰NNKNNNKNNNNNKNNNNNKNN┼─NNNNNNN╯\n",
       "         │┊┊┊┊┊┊┊┊┊┊┊┊┊┊┊┊    ┊┊┊┊┊┊┊┊┊┊┊┊  │ ┊┊┊┊┊┊ │  ┊┊┊┊┊┊┊┊┊┊┊┊┊    ┊┊┊┊┊┊┊┊┊┊┊┊┊┊┊┊┊┊┊┊┊│         \n",
       "╭NNNNNNN─┼NNNKNNNNKNNNNNKN────NNKNNNNKNNNNA─╯╭NNNNNN─┼AANNNKNNNNNNKNN────NNKNNNKNNNNNKNNNNNKNN╯         \n",
       "╰────────╯                                   ╰───────╯                                                  </pre>\n",
       "    </div>\n",
       "    "
      ],
      "text/plain": [
       "<IPython.core.display.HTML object>"
      ]
     },
     "metadata": {},
     "output_type": "display_data"
    }
   ],
   "source": [
    "ori_3H_3DT = pf.simple_origami([-2], main_stem=33, end_helix_len=7)\n",
    "# adjust start position\n",
    "ori_3H_3DT[0, 3].length = 12\n",
    "ori_3H_3DT[0, 5].length = 21\n",
    "\n",
    "# adjust stems before the KL\n",
    "ori_3H_3DT[0, 1].length = 12\n",
    "ori_3H_3DT[-1, 1].length = 16\n",
    "ori_3H_3DT[0, -2].length = 11\n",
    "ori_3H_3DT[-1, -2].length = 21\n",
    "\n",
    "# put the KL in the right place\n",
    "ori_3H_3DT[0, 0] = pf.KissingLoop120(pk_index=1)\n",
    "ori_3H_3DT[-1, 0] = pf.KissingLoop120(pk_index=2)\n",
    "ori_3H_3DT[0, -1] = pf.KissingLoop120(open_left=True, pk_index=1)\n",
    "ori_3H_3DT[-1, -1] = pf.KissingLoop120(open_left=True, pk_index=2)\n",
    "\n",
    "pf.ipython_display_txt(ori_3H_3DT)\n"
   ]
  },
  {
   "cell_type": "markdown",
   "id": "4ce174f2",
   "metadata": {},
   "source": [
    "### 3H-4DT"
   ]
  },
  {
   "cell_type": "code",
   "execution_count": 19,
   "id": "eacd1491",
   "metadata": {},
   "outputs": [
    {
     "data": {
      "text/html": [
       "\n",
       "    <div style=\"max-height: 500px; overflow-y: scroll; border: 1px solid #ccc; padding: 10px;\">\n",
       "    <pre>                                                                                 ╭────────╮              \n",
       "                 ╭NNKNN────NNNKNNNNKNNN─3 5─NNKNNNKNNNKNNNNNKNNNN────NNKNNNNKNNNN┼─NNNNNNN╯              \n",
       "                 │┊┊┊┊┊    ┊┊┊┊┊┊┊┊┊┊┊┊     ┊┊┊┊┊┊┊┊┊┊┊┊┊┊┊┊┊┊┊┊┊    ┊┊┊┊┊┊┊┊┊┊┊┊│                       \n",
       "        ╭NNNNNNN─┼NNKNN╮╭──NNNKNNNNKNNN─────NNKNNNKNNNKNNNNNKNNNN╮╭──NNKNNNNKNNNN╯                       \n",
       "        ╰────────╯     ││                                        ││                                      \n",
       "                       ││                                        │╰╮                                     \n",
       "                       ││                                        ╰╮│                                     \n",
       "                       ↓↓                                         ↓↓                                     \n",
       "                       ││                  ╭───────╮              ││                                     \n",
       "             ╭CGNNNNKNN╯╰NNKN──NNNNKNNNNNAA┼─NNNNNN╯╭─ANNKNNNNKNNN╯╰NNNN──NNNNKNNUU╮                     \n",
       "             │  ┊┊┊┊┊┊┊  ┊┊┊┊  ┊┊┊┊┊┊┊┊┊┊  │ ┊┊┊┊┊┊ │  ┊┊┊┊┊┊┊┊┊┊┊  ┊┊┊┊  ┊┊┊┊┊┊┊  │                     \n",
       "             ╰UUNNNNKNN──NNKN╮╭NNNNKNNNNNA─╯╭NNNNNN─┼AANNKNNNNKNNN──NNNN╮╭NNNNKNNGC╯                     \n",
       "                             ││             ╰───────╯                   ││                               \n",
       "                             ││                                         ││                               \n",
       "                             ↓↓                                         ↓↓                               \n",
       "                             ││              ╭───────╮                  ││                     ╭────────╮\n",
       "         ╭NNNKNNNNNNKNNNNNN──╯╰NNNKNNNNNKNNAA┼─NNNNNN╯╭─ANNNKNNNKNNNNN──╯╰NNNNKNNNNNNKNNNNNNKNN┼─NNNNNNN╯\n",
       "         │┊┊┊┊┊┊┊┊┊┊┊┊┊┊┊┊┊    ┊┊┊┊┊┊┊┊┊┊┊┊  │ ┊┊┊┊┊┊ │  ┊┊┊┊┊┊┊┊┊┊┊┊┊    ┊┊┊┊┊┊┊┊┊┊┊┊┊┊┊┊┊┊┊┊┊│         \n",
       "╭NNNNNNN─┼NNNKNNNNNNKNNNNNN────NNNKNNNNNKNNA─╯╭NNNNNN─┼AANNNKNNNKNNNNN────NNNNKNNNNNNKNNNNNNKNN╯         \n",
       "╰────────╯                                    ╰───────╯                                                  </pre>\n",
       "    </div>\n",
       "    "
      ],
      "text/plain": [
       "<IPython.core.display.HTML object>"
      ]
     },
     "metadata": {},
     "output_type": "display_data"
    }
   ],
   "source": [
    "ori_3H_4DT = pf.simple_origami([-4], main_stem=33, end_helix_len=7)\n",
    "# adjust start position\n",
    "ori_3H_4DT[0, 3].length = 12\n",
    "ori_3H_4DT[0, 5].length = 21\n",
    "\n",
    "# adjust stems before the KL\n",
    "ori_3H_4DT[0, 1].length = 5\n",
    "ori_3H_4DT[-1, 1].length = 17\n",
    "ori_3H_4DT[0, -2].length = 12\n",
    "ori_3H_4DT[-1, -2].length = 21\n",
    "\n",
    "# put the KL in the right place\n",
    "ori_3H_4DT[0, 0] = pf.KissingLoop120(pk_index=1)\n",
    "ori_3H_4DT[-1, 0] = pf.KissingLoop120(pk_index=2)\n",
    "ori_3H_4DT[0, -1] = pf.KissingLoop120(open_left=True, pk_index=1)\n",
    "ori_3H_4DT[-1, -1] = pf.KissingLoop120(open_left=True, pk_index=2)\n",
    "\n",
    "pf.ipython_display_txt(ori_3H_4DT)\n"
   ]
  },
  {
   "cell_type": "code",
   "execution_count": null,
   "id": "159eac57",
   "metadata": {},
   "outputs": [],
   "source": []
  }
 ],
 "metadata": {
  "kernelspec": {
   "display_name": "vrna",
   "language": "python",
   "name": "python3"
  },
  "language_info": {
   "codemirror_mode": {
    "name": "ipython",
    "version": 3
   },
   "file_extension": ".py",
   "mimetype": "text/x-python",
   "name": "python",
   "nbconvert_exporter": "python",
   "pygments_lexer": "ipython3",
   "version": "3.12.6"
  }
 },
 "nbformat": 4,
 "nbformat_minor": 5
}
